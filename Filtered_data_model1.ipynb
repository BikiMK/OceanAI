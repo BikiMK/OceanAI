{
 "cells": [
  {
   "cell_type": "code",
   "execution_count": null,
   "id": "c9d624ed-1ce8-4037-ad76-314b78b46638",
   "metadata": {},
   "outputs": [],
   "source": [
    "import numpy as np\n",
    "import pandas as pd\n",
    "import matplotlib.pyplot as plt\n",
    "import seaborn as sns\n",
    "import xgboost as xgb\n",
    "from sklearn.model_selection import train_test_split\n",
    "from sklearn.preprocessing import LabelEncoder\n",
    "import joblib\n",
    "\n",
    "\n"
   ]
  },
  {
   "cell_type": "code",
   "execution_count": null,
   "id": "4a2c52a5-f33d-4a4b-9e42-1e88b0437631",
   "metadata": {},
   "outputs": [],
   "source": [
    "import os\n",
    "print(os.getcwd())"
   ]
  },
  {
   "cell_type": "code",
   "execution_count": null,
   "id": "52d67dfb-9320-40a1-b562-91b8e5144e10",
   "metadata": {},
   "outputs": [],
   "source": [
    "\n",
    "\n",
    "# Try ISO-8859-1 (common for Excel exports)\n",
    "df = pd.read_csv(r\"C:\\Users\\SUBHO\\Desktop\\fish_data_cleaned.csv\", encoding=\"ISO-8859-1\")\n",
    "print(df.head(1))\n"
   ]
  },
  {
   "cell_type": "code",
   "execution_count": null,
   "id": "16e8a54e-ef48-468a-a5a5-bbf7ce384d34",
   "metadata": {},
   "outputs": [],
   "source": [
    "print(df.columns.tolist())"
   ]
  },
  {
   "cell_type": "code",
   "execution_count": null,
   "id": "42fcc29a-42fb-4a8e-8990-d4c6b6953b1c",
   "metadata": {},
   "outputs": [],
   "source": [
    "important_columns = [\n",
    "    \"occurrenceID\",\n",
    "    \"eventDate\",\n",
    "    \"individualCount\",\n",
    "    \"sex\",\n",
    "    \"lifeStage\",\n",
    "    \"waterBody\",\n",
    "    \"country\",\n",
    "    \"stateProvince\",\n",
    "    \"county\",\n",
    "    \"locality\",\n",
    "    \"decimalLatitude\",\n",
    "    \"decimalLongitude\",\n",
    "    \"minimumDepthInMeters\",\n",
    "    \"maximumDepthInMeters\",\n",
    "    \"scientificName\",\n",
    "    \"kingdom\",\n",
    "    \"phylum\",\n",
    "    \"class\",\n",
    "    \"order\",\n",
    "    \"family\",\n",
    "    \"genus\",\n",
    "    \"specificEpithet\",\n",
    "    \"identifiedBy\",\n",
    "    \"dateIdentified\",\n",
    "    \"basisOfRecord\"\n",
    "]\n",
    "\n",
    "# Keep only selected columns\n",
    "df_filtered = df[important_columns]\n",
    "\n",
    "# Save the filtered dataset\n",
    "df_filtered.to_csv(r\"C:\\Users\\SUBHO\\Desktop\\fish_data_filtered.csv\", index=False)\n",
    "\n",
    "print(\"✅ Filtered dataset saved successfully!\")\n",
    "print(df_filtered.head())"
   ]
  },
  {
   "cell_type": "code",
   "execution_count": null,
   "id": "d0b1f3c1-22ee-4e6a-9491-32615b4b2540",
   "metadata": {},
   "outputs": [],
   "source": [
    "print(df.columns.tolist())"
   ]
  },
  {
   "cell_type": "code",
   "execution_count": null,
   "id": "95565283-f8ab-4ada-bd51-3723132c4dfc",
   "metadata": {},
   "outputs": [],
   "source": [
    "df = pd.read_csv(r\"C:\\Users\\SUBHO\\Desktop\\fish_data_filtered.csv\", encoding=\"ISO-8859-1\", low_memory=False)\n"
   ]
  },
  {
   "cell_type": "code",
   "execution_count": null,
   "id": "ed6e6ad3-ae87-4512-b2cb-557105507c49",
   "metadata": {},
   "outputs": [],
   "source": [
    "print(\"Shape:\", df.shape)\n",
    "\n",
    "# Show first 5 rows\n",
    "print(df.head())\n",
    "\n",
    "# Show column data types\n",
    "print(df.dtypes.head(20)) "
   ]
  },
  {
   "cell_type": "code",
   "execution_count": null,
   "id": "db5047a3-0057-4c65-bb7b-b5ba0a63daa9",
   "metadata": {},
   "outputs": [],
   "source": [
    "# 1. Replace \"Unknown\" with NaN\n",
    "df.replace(\"Unknown\", np.nan, inplace=True)\n",
    "\n",
    "# 2. Fix individualCount (remove negative/invalid values)\n",
    "df.loc[df[\"individualCount\"] < 0, \"individualCount\"] = np.nan\n",
    "\n",
    "# 3. Convert eventDate to datetime\n",
    "df[\"eventDate\"] = pd.to_datetime(df[\"eventDate\"], errors=\"coerce\")\n",
    "\n",
    "# 4. Check missing values summary\n",
    "print(\"Missing values per column:\\n\", df.isnull().sum())\n",
    "\n",
    "# 5. Check ranges of coordinates\n",
    "print(\"\\nLatitude range:\", df[\"decimalLatitude\"].min(), \"to\", df[\"decimalLatitude\"].max())\n",
    "print(\"Longitude range:\", df[\"decimalLongitude\"].min(), \"to\", df[\"decimalLongitude\"].max())"
   ]
  },
  {
   "cell_type": "code",
   "execution_count": null,
   "id": "8af3cad8-d113-42ac-a759-6db33be3302e",
   "metadata": {},
   "outputs": [],
   "source": [
    "df = df.dropna(subset=[\"scientificName\", \"decimalLatitude\", \"decimalLongitude\"])"
   ]
  },
  {
   "cell_type": "code",
   "execution_count": null,
   "id": "0a8af869-7cba-4493-9d5d-862af02d7588",
   "metadata": {},
   "outputs": [],
   "source": [
    "df = df[(df[\"decimalLatitude\"].between(-90, 90)) & \n",
    "        (df[\"decimalLongitude\"].between(-180, 180))]"
   ]
  },
  {
   "cell_type": "code",
   "execution_count": null,
   "id": "86ceed8f-6c4f-496a-8bb1-e16d49548d1a",
   "metadata": {},
   "outputs": [],
   "source": [
    "# Check min/max after filtering\n",
    "print(\"Latitude range:\", df[\"decimalLatitude\"].min(), \"to\", df[\"decimalLatitude\"].max())\n",
    "print(\"Longitude range:\", df[\"decimalLongitude\"].min(), \"to\", df[\"decimalLongitude\"].max())\n",
    "\n",
    "# Quick look at first 5 rows\n",
    "print(df[[\"decimalLatitude\", \"decimalLongitude\", \"scientificName\"]].head())\n",
    "\n",
    "# Optional: check if any invalid coordinates remain\n",
    "invalid_coords = df[\n",
    "    (df[\"decimalLatitude\"] < -90) | (df[\"decimalLatitude\"] > 90) |\n",
    "    (df[\"decimalLongitude\"] < -180) | (df[\"decimalLongitude\"] > 180)\n",
    "]\n",
    "print(\"Number of invalid coordinates remaining:\", len(invalid_coords))\n"
   ]
  },
  {
   "cell_type": "code",
   "execution_count": null,
   "id": "b323c9a1-6626-48bc-98c4-d643744d641b",
   "metadata": {},
   "outputs": [],
   "source": [
    "# Fill missing categorical values with \"Unknown\" (optional)\n",
    "categorical_cols = [\"sex\", \"lifeStage\", \"waterBody\", \"country\", \"stateProvince\"]\n",
    "df[categorical_cols] = df[categorical_cols].fillna(\"Unknown\")\n",
    "\n",
    "# For counts, missing values can stay as NaN\n"
   ]
  },
  {
   "cell_type": "code",
   "execution_count": null,
   "id": "236fc147-7bce-4d2a-81fd-e6b675adc6cf",
   "metadata": {},
   "outputs": [],
   "source": [
    "print(df[categorical_cols].head(10))\n",
    "print(\"Missing values in categorical columns:\\n\", df[categorical_cols].isnull().sum())\n",
    "\n"
   ]
  },
  {
   "cell_type": "code",
   "execution_count": null,
   "id": "f384f8a2-6bd7-4cf6-8a73-36c92ec35e27",
   "metadata": {},
   "outputs": [],
   "source": [
    "# Check summary stats\n",
    "print(df[\"individualCount\"].describe())\n",
    "\n",
    "# Count missing values\n",
    "print(\"Missing values in individualCount:\", df[\"individualCount\"].isnull().sum())\n"
   ]
  },
  {
   "cell_type": "code",
   "execution_count": null,
   "id": "55655e0d-f139-4769-a2e1-b8458e7527a7",
   "metadata": {},
   "outputs": [],
   "source": [
    "# Safe way to fill missing values\n",
    "df[\"individualCount\"] = df[\"individualCount\"].fillna(0)\n",
    "\n",
    "# Verify\n",
    "print(\"Missing values after filling:\", df[\"individualCount\"].isnull().sum())\n"
   ]
  },
  {
   "cell_type": "code",
   "execution_count": null,
   "id": "7186a8b6-1652-40f5-8ddf-876eff5591ca",
   "metadata": {},
   "outputs": [],
   "source": [
    "# Remove extreme outliers (e.g., counts > 100)\n",
    "df.loc[df[\"individualCount\"] > 100, \"individualCount\"] = np.nan\n"
   ]
  },
  {
   "cell_type": "code",
   "execution_count": null,
   "id": "b1c3f538-9873-4789-b561-b5f74c9ade29",
   "metadata": {},
   "outputs": [],
   "source": [
    "df.loc[df[\"minimumDepthInMeters\"] < 0, \"minimumDepthInMeters\"] = np.nan\n",
    "df.loc[df[\"maximumDepthInMeters\"] < 0, \"maximumDepthInMeters\"] = np.nan\n"
   ]
  },
  {
   "cell_type": "code",
   "execution_count": null,
   "id": "d5338b1f-55b9-44b6-ad4b-8fc85be37613",
   "metadata": {},
   "outputs": [],
   "source": [
    "neg_min = df[df[\"minimumDepthInMeters\"] < 0]\n",
    "neg_max = df[df[\"maximumDepthInMeters\"] < 0]\n",
    "\n",
    "print(\"Negative values in minimumDepthInMeters:\", len(neg_min))\n",
    "print(\"Negative values in maximumDepthInMeters:\", len(neg_max))\n"
   ]
  },
  {
   "cell_type": "code",
   "execution_count": null,
   "id": "2b6912d4-eca2-42ed-a66e-48e777022b31",
   "metadata": {},
   "outputs": [],
   "source": [
    "print(df[[\"minimumDepthInMeters\", \"maximumDepthInMeters\"]].describe())\n"
   ]
  },
  {
   "cell_type": "code",
   "execution_count": null,
   "id": "876277e1-125e-4fa9-89cc-139674f97cee",
   "metadata": {},
   "outputs": [],
   "source": [
    "invalid_depth = df[df[\"minimumDepthInMeters\"] > df[\"maximumDepthInMeters\"]]\n",
    "print(\"Rows where minDepth > maxDepth:\", len(invalid_depth))\n",
    "\n",
    "# Fix by swapping if needed (optional)\n",
    "df.loc[df[\"minimumDepthInMeters\"] > df[\"maximumDepthInMeters\"], \n",
    "       [\"minimumDepthInMeters\", \"maximumDepthInMeters\"]] = \\\n",
    "       df.loc[df[\"minimumDepthInMeters\"] > df[\"maximumDepthInMeters\"], \n",
    "              [\"maximumDepthInMeters\", \"minimumDepthInMeters\"]].values\n"
   ]
  },
  {
   "cell_type": "code",
   "execution_count": null,
   "id": "a0a845ef-b9af-4c68-8553-a0e3b04fdd53",
   "metadata": {},
   "outputs": [],
   "source": [
    "# Swap min and max where min > max\n",
    "swap_idx = df[\"minimumDepthInMeters\"] > df[\"maximumDepthInMeters\"]\n",
    "df.loc[swap_idx, [\"minimumDepthInMeters\", \"maximumDepthInMeters\"]] = \\\n",
    "    df.loc[swap_idx, [\"maximumDepthInMeters\", \"minimumDepthInMeters\"]].values\n",
    "\n",
    "# Verify again\n",
    "invalid_depth = df[df[\"minimumDepthInMeters\"] > df[\"maximumDepthInMeters\"]]\n",
    "print(\"Rows where minDepth > maxDepth after swap:\", len(invalid_depth))\n"
   ]
  },
  {
   "cell_type": "code",
   "execution_count": null,
   "id": "a81ab1ff-c1ff-42ae-b591-c57e2d2ec141",
   "metadata": {},
   "outputs": [],
   "source": [
    "important_cols = [\"occurrenceID\", \"eventDate\", \"individualCount\", \n",
    "                  \"sex\", \"lifeStage\", \"waterBody\", \"country\", \n",
    "                  \"stateProvince\", \"decimalLatitude\", \"decimalLongitude\", \n",
    "                  \"minimumDepthInMeters\", \"maximumDepthInMeters\", \"scientificName\"]\n",
    "\n",
    "print(\"Missing values in important columns:\\n\", df[important_cols].isnull().sum())\n"
   ]
  },
  {
   "cell_type": "code",
   "execution_count": null,
   "id": "6a97c8af-44b5-4ba0-8982-ca2faf349615",
   "metadata": {},
   "outputs": [],
   "source": [
    "print(\"Data shape after cleaning:\", df.shape)\n"
   ]
  },
  {
   "cell_type": "code",
   "execution_count": null,
   "id": "08540e91-6d79-4f3f-9d4b-80ebb3415f59",
   "metadata": {},
   "outputs": [],
   "source": [
    "# Keep only rows with a scientific name\n",
    "df_species = df[df[\"scientificName\"].notnull()]\n",
    "print(\"Shape for species-level analysis:\", df_species.shape)\n",
    "\n",
    "# Keep rows with valid dates\n",
    "df_dates = df[df[\"eventDate\"].notnull()]\n",
    "print(\"Shape for date-based analysis:\", df_dates.shape)\n",
    "\n"
   ]
  },
  {
   "cell_type": "code",
   "execution_count": null,
   "id": "6c3211d6-7594-4e0d-912a-cef9f45e4b05",
   "metadata": {},
   "outputs": [],
   "source": [
    "df.to_csv(r\"C:\\Users\\SUBHO\\Desktop\\fish_data_cleaned_final.csv\", index=False)\n"
   ]
  },
  {
   "cell_type": "code",
   "execution_count": null,
   "id": "21c036ba-d95c-416d-83bc-49dedc2d38f0",
   "metadata": {},
   "outputs": [],
   "source": [
    "df_plot = df_species.sample(5000)  # sample for faster plotting if dataset is large\n",
    "\n",
    "plt.figure(figsize=(10,6))\n",
    "sns.scatterplot(\n",
    "    x=\"decimalLongitude\", \n",
    "    y=\"decimalLatitude\", \n",
    "    hue=\"scientificName\", \n",
    "    data=df_plot, \n",
    "    legend=False, \n",
    "    alpha=0.6\n",
    ")\n",
    "plt.title(\"Species Distribution Map (Sampled 5000 points)\")\n",
    "plt.xlabel(\"Longitude\")\n",
    "plt.ylabel(\"Latitude\")\n",
    "plt.show()"
   ]
  },
  {
   "cell_type": "code",
   "execution_count": null,
   "id": "dfb85955-b7eb-407e-9b14-ce3ab884038d",
   "metadata": {},
   "outputs": [],
   "source": [
    "top_species = df_species.groupby(\"scientificName\")[\"individualCount\"].sum().sort_values(ascending=False).head(20)\n",
    "\n",
    "plt.figure(figsize=(12,6))\n",
    "sns.barplot(x=top_species.values, y=top_species.index, palette=\"viridis\")\n",
    "plt.title(\"Top 20 Species by Individual Count\")\n",
    "plt.xlabel(\"Total Individuals\")\n",
    "plt.ylabel(\"Species\")\n",
    "plt.show()\n"
   ]
  },
  {
   "cell_type": "code",
   "execution_count": null,
   "id": "46f02389-397b-4011-8f8e-a3f4a33f6513",
   "metadata": {},
   "outputs": [],
   "source": [
    "plt.figure(figsize=(12,5))\n",
    "sns.histplot(df_species[\"minimumDepthInMeters\"].dropna(), bins=50, kde=True, color=\"skyblue\", label=\"Min Depth\")\n",
    "sns.histplot(df_species[\"maximumDepthInMeters\"].dropna(), bins=50, kde=True, color=\"salmon\", label=\"Max Depth\")\n",
    "plt.title(\"Depth Distribution of Species\")\n",
    "plt.xlabel(\"Depth (meters)\")\n",
    "plt.ylabel(\"Frequency\")\n",
    "plt.legend()\n",
    "plt.show()\n"
   ]
  },
  {
   "cell_type": "code",
   "execution_count": null,
   "id": "3367e477-b1c1-44e5-b8fc-2cb51659ccc3",
   "metadata": {},
   "outputs": [],
   "source": [
    "country_counts = df_species[\"country\"].value_counts().head(20)  # top 20 countries\n",
    "\n",
    "plt.figure(figsize=(12,6))\n",
    "sns.barplot(x=country_counts.values, y=country_counts.index, palette=\"coolwarm\")\n",
    "plt.title(\"Top 20 Countries by Number of Species Occurrences\")\n",
    "plt.xlabel(\"Number of Occurrences\")\n",
    "plt.ylabel(\"Country\")\n",
    "plt.show()\n"
   ]
  },
  {
   "cell_type": "code",
   "execution_count": null,
   "id": "302d7b97-ee78-4ced-96bb-20aa67616a3f",
   "metadata": {},
   "outputs": [],
   "source": [
    "df_dates[\"year\"] = df_dates[\"eventDate\"].dt.year\n",
    "yearly_counts = df_dates.groupby(\"year\").size()\n",
    "\n",
    "plt.figure(figsize=(12,5))\n",
    "sns.lineplot(x=yearly_counts.index, y=yearly_counts.values)\n",
    "plt.title(\"Number of Observations per Year\")\n",
    "plt.xlabel(\"Year\")\n",
    "plt.ylabel(\"Number of Records\")\n",
    "plt.show()\n"
   ]
  },
  {
   "cell_type": "code",
   "execution_count": null,
   "id": "3cf0b13f-7fb1-43a6-b07e-ac162c33f5bb",
   "metadata": {},
   "outputs": [],
   "source": [
    "species_per_country = df_species.groupby(\"country\")[\"scientificName\"].nunique().sort_values(ascending=False)\n",
    "print(species_per_country.head(20))\n"
   ]
  },
  {
   "cell_type": "code",
   "execution_count": null,
   "id": "f0a011d4-a785-4084-8ea7-bc2c9100c312",
   "metadata": {},
   "outputs": [],
   "source": [
    "sns.scatterplot(\n",
    "    x=\"minimumDepthInMeters\", \n",
    "    y=\"individualCount\", \n",
    "    hue=\"scientificName\", \n",
    "    data=df_species.sample(5000), \n",
    "    legend=False\n",
    ")\n",
    "plt.title(\"Depth vs Species Abundance\")\n",
    "plt.xlabel(\"Minimum Depth (m)\")\n",
    "plt.ylabel(\"Individual Count\")\n",
    "plt.show()\n"
   ]
  },
  {
   "cell_type": "code",
   "execution_count": 1,
   "id": "a26ac3ae-0eae-45ec-9d3a-a26ef9fed6c2",
   "metadata": {},
   "outputs": [],
   "source": [
    "import numpy as np\n",
    "import pandas as pd\n",
    "import matplotlib.pyplot as plt\n",
    "import seaborn as sns\n",
    "import xgboost as xgb\n",
    "from sklearn.model_selection import train_test_split\n",
    "from sklearn.preprocessing import LabelEncoder\n",
    "import joblib\n",
    "\n",
    "\n"
   ]
  },
  {
   "cell_type": "code",
   "execution_count": null,
   "id": "ab7fe263-459d-4e29-921f-6060d5eae997",
   "metadata": {},
   "outputs": [],
   "source": [
    "species_counts = df['scientificName'].value_counts()\n",
    "df_filtered = df[df['scientificName'].isin(species_counts[species_counts>5].index)]"
   ]
  },
  {
   "cell_type": "code",
   "execution_count": null,
   "id": "53b0b78f-df4a-43c3-8e69-e4a0c561feac",
   "metadata": {},
   "outputs": [],
   "source": [
    "# -----------------------------\n",
    "# 1. Import libraries\n",
    "# -----------------------------\n",
    "import pandas as pd\n",
    "import numpy as np\n",
    "from sklearn.preprocessing import LabelEncoder\n",
    "from sklearn.model_selection import train_test_split\n",
    "import xgboost as xgb\n",
    "import joblib\n",
    "\n",
    "# -----------------------------\n",
    "# 2. Load cleaned data\n",
    "# -----------------------------\n",
    "df = pd.read_csv(r\"C:\\Users\\SUBHO\\Desktop\\fish_data_cleaned_final.csv\", low_memory=False)\n",
    "\n",
    "# -----------------------------\n",
    "# 3. Feature selection\n",
    "# -----------------------------\n",
    "features = [\n",
    "    \"decimalLatitude\",\n",
    "    \"decimalLongitude\",\n",
    "    \"minimumDepthInMeters\",\n",
    "    \"maximumDepthInMeters\",\n",
    "    \"waterBody\",\n",
    "    \"country\",\n",
    "    \"sex\",\n",
    "    \"lifeStage\"\n",
    "]\n",
    "target = \"scientificName\"\n",
    "\n",
    "# -----------------------------\n",
    "# 4. Remove species with only 1 occurrence\n",
    "# -----------------------------\n",
    "species_counts = df[target].value_counts()\n",
    "df = df[df[target].isin(species_counts[species_counts >= 2].index)]\n",
    "\n",
    "# -----------------------------\n",
    "# 5. Encode categorical features\n",
    "# -----------------------------\n",
    "categorical_cols = [\"waterBody\", \"country\", \"sex\", \"lifeStage\"]\n",
    "for col in categorical_cols:\n",
    "    le = LabelEncoder()\n",
    "    df[col] = le.fit_transform(df[col].astype(str))\n",
    "\n",
    "# Encode target after filtering\n",
    "le_target = LabelEncoder()\n",
    "df[target] = le_target.fit_transform(df[target].astype(str))\n",
    "\n",
    "# -----------------------------\n",
    "# 6. Split data\n",
    "# -----------------------------\n",
    "X = df[features]\n",
    "y = df[target]\n",
    "\n",
    "X_train, X_test, y_train, y_test = train_test_split(\n",
    "    X, y, test_size=0.2, random_state=42, stratify=y\n",
    ")\n",
    "\n",
    "# -----------------------------\n",
    "# 7. Train XGBoost classifier\n",
    "# -----------------------------\n",
    "model = xgb.XGBClassifier(\n",
    "    n_estimators=200,\n",
    "    learning_rate=0.1,\n",
    "    max_depth=6,\n",
    "    random_state=42,\n",
    "    eval_metric=\"mlogloss\"  # removed deprecated use_label_encoder\n",
    ")\n",
    "model.fit(X_train, y_train)\n",
    "\n",
    "# -----------------------------\n",
    "# 8. Save model and label encoder\n",
    "# -----------------------------\n",
    "joblib.dump(model, \"xgb_species_model.pkl\")\n",
    "joblib.dump(le_target, \"label_encoder.pkl\")\n",
    "\n",
    "# -----------------------------\n",
    "# 9. Optional: Check test accuracy\n",
    "# -----------------------------\n",
    "accuracy = model.score(X_test, y_test)\n",
    "print(\"XGBoost test accuracy:\", accuracy)"
   ]
  },
  {
   "cell_type": "code",
   "execution_count": null,
   "id": "d5f1980c-5ada-433f-88ce-aee8548e98d2",
   "metadata": {},
   "outputs": [],
   "source": [
    "\n"
   ]
  }
 ],
 "metadata": {
  "kernelspec": {
   "display_name": "Python 3",
   "language": "python",
   "name": "python3"
  },
  "language_info": {
   "codemirror_mode": {
    "name": "ipython",
    "version": 3
   },
   "file_extension": ".py",
   "mimetype": "text/x-python",
   "name": "python",
   "nbconvert_exporter": "python",
   "pygments_lexer": "ipython3",
   "version": "3.13.5"
  }
 },
 "nbformat": 4,
 "nbformat_minor": 5
}
